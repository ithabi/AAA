{
  "nbformat": 4,
  "nbformat_minor": 0,
  "metadata": {
    "colab": {
      "provenance": [],
      "include_colab_link": true
    },
    "kernelspec": {
      "name": "python3",
      "display_name": "Python 3"
    },
    "language_info": {
      "name": "python"
    }
  },
  "cells": [
    {
      "cell_type": "markdown",
      "metadata": {
        "id": "view-in-github",
        "colab_type": "text"
      },
      "source": [
        "<a href=\"https://colab.research.google.com/github/ithabi/AAA/blob/main/quizzes/Wrap_up_Quiz_1_Students_V2.ipynb\" target=\"_parent\"><img src=\"https://colab.research.google.com/assets/colab-badge.svg\" alt=\"Open In Colab\"/></a>"
      ]
    },
    {
      "cell_type": "markdown",
      "source": [
        "# Wrap-up quiz 1\n",
        "\n",
        "**Estimated Time**: 30 minutes\n",
        "\n",
        "**This quiz requires some programming to be answered.**\n",
        "\n",
        "Open the dataset `ames_housing_no_missing.csv` with the following command:"
      ],
      "metadata": {
        "id": "XnAjzF2OulRi"
      }
    },
    {
      "cell_type": "markdown",
      "source": [
        "**HERE ARE THE ANSWERS FOR THE QUIZZ**\n",
        "\n",
        "Q1 : c)\n",
        "\n",
        "Q2 : a)\n",
        "\n",
        "Q3 : b)\n",
        "\n",
        "Q4 : a) b) e)\n",
        "\n",
        "Q5 : b)\n",
        "Q6 : c)\n",
        "\n",
        "Optional :\n",
        "\n",
        "Classification accuracy score\n",
        "*   0.892 (numerical features)\n",
        "*   0.916 (all features)\n",
        "(code and graph is provided at the end)\n",
        "\n"
      ],
      "metadata": {
        "id": "cEmSWwP04c0F"
      }
    },
    {
      "cell_type": "code",
      "execution_count": 19,
      "metadata": {
        "id": "RI9BOaqi_yFE"
      },
      "outputs": [],
      "source": [
        "import pandas as pd\n",
        "ames_housing = pd.read_csv(\"https://raw.githubusercontent.com/bilals/scikit-learn-mooc/main/datasets/ames_housing_no_missing.csv\")\n",
        "\n",
        "target_name = \"SalePrice\"\n",
        "data, target = ames_housing.drop(columns=target_name), ames_housing[target_name]"
      ]
    },
    {
      "cell_type": "code",
      "source": [
        "data.info()"
      ],
      "metadata": {
        "id": "58i745DP6J3x",
        "outputId": "e659b316-9c65-496d-8468-eb034ca25ffb",
        "colab": {
          "base_uri": "https://localhost:8080/"
        }
      },
      "execution_count": 20,
      "outputs": [
        {
          "output_type": "stream",
          "name": "stdout",
          "text": [
            "<class 'pandas.core.frame.DataFrame'>\n",
            "RangeIndex: 1460 entries, 0 to 1459\n",
            "Data columns (total 79 columns):\n",
            " #   Column         Non-Null Count  Dtype  \n",
            "---  ------         --------------  -----  \n",
            " 0   MSSubClass     1460 non-null   int64  \n",
            " 1   MSZoning       1460 non-null   object \n",
            " 2   LotFrontage    1460 non-null   float64\n",
            " 3   LotArea        1460 non-null   int64  \n",
            " 4   Street         1460 non-null   object \n",
            " 5   Alley          1460 non-null   object \n",
            " 6   LotShape       1460 non-null   object \n",
            " 7   LandContour    1460 non-null   object \n",
            " 8   Utilities      1460 non-null   object \n",
            " 9   LotConfig      1460 non-null   object \n",
            " 10  LandSlope      1460 non-null   object \n",
            " 11  Neighborhood   1460 non-null   object \n",
            " 12  Condition1     1460 non-null   object \n",
            " 13  Condition2     1460 non-null   object \n",
            " 14  BldgType       1460 non-null   object \n",
            " 15  HouseStyle     1460 non-null   object \n",
            " 16  OverallQual    1460 non-null   int64  \n",
            " 17  OverallCond    1460 non-null   int64  \n",
            " 18  YearBuilt      1460 non-null   int64  \n",
            " 19  YearRemodAdd   1460 non-null   int64  \n",
            " 20  RoofStyle      1460 non-null   object \n",
            " 21  RoofMatl       1460 non-null   object \n",
            " 22  Exterior1st    1460 non-null   object \n",
            " 23  Exterior2nd    1460 non-null   object \n",
            " 24  MasVnrType     588 non-null    object \n",
            " 25  MasVnrArea     1460 non-null   float64\n",
            " 26  ExterQual      1460 non-null   object \n",
            " 27  ExterCond      1460 non-null   object \n",
            " 28  Foundation     1460 non-null   object \n",
            " 29  BsmtQual       1460 non-null   object \n",
            " 30  BsmtCond       1460 non-null   object \n",
            " 31  BsmtExposure   1460 non-null   object \n",
            " 32  BsmtFinType1   1460 non-null   object \n",
            " 33  BsmtFinSF1     1460 non-null   int64  \n",
            " 34  BsmtFinType2   1460 non-null   object \n",
            " 35  BsmtFinSF2     1460 non-null   int64  \n",
            " 36  BsmtUnfSF      1460 non-null   int64  \n",
            " 37  TotalBsmtSF    1460 non-null   int64  \n",
            " 38  Heating        1460 non-null   object \n",
            " 39  HeatingQC      1460 non-null   object \n",
            " 40  CentralAir     1460 non-null   object \n",
            " 41  Electrical     1460 non-null   object \n",
            " 42  1stFlrSF       1460 non-null   int64  \n",
            " 43  2ndFlrSF       1460 non-null   int64  \n",
            " 44  LowQualFinSF   1460 non-null   int64  \n",
            " 45  GrLivArea      1460 non-null   int64  \n",
            " 46  BsmtFullBath   1460 non-null   int64  \n",
            " 47  BsmtHalfBath   1460 non-null   int64  \n",
            " 48  FullBath       1460 non-null   int64  \n",
            " 49  HalfBath       1460 non-null   int64  \n",
            " 50  BedroomAbvGr   1460 non-null   int64  \n",
            " 51  KitchenAbvGr   1460 non-null   int64  \n",
            " 52  KitchenQual    1460 non-null   object \n",
            " 53  TotRmsAbvGrd   1460 non-null   int64  \n",
            " 54  Functional     1460 non-null   object \n",
            " 55  Fireplaces     1460 non-null   int64  \n",
            " 56  FireplaceQu    1460 non-null   object \n",
            " 57  GarageType     1460 non-null   object \n",
            " 58  GarageYrBlt    1460 non-null   float64\n",
            " 59  GarageFinish   1460 non-null   object \n",
            " 60  GarageCars     1460 non-null   int64  \n",
            " 61  GarageArea     1460 non-null   int64  \n",
            " 62  GarageQual     1460 non-null   object \n",
            " 63  GarageCond     1460 non-null   object \n",
            " 64  PavedDrive     1460 non-null   object \n",
            " 65  WoodDeckSF     1460 non-null   int64  \n",
            " 66  OpenPorchSF    1460 non-null   int64  \n",
            " 67  EnclosedPorch  1460 non-null   int64  \n",
            " 68  3SsnPorch      1460 non-null   int64  \n",
            " 69  ScreenPorch    1460 non-null   int64  \n",
            " 70  PoolArea       1460 non-null   int64  \n",
            " 71  PoolQC         1460 non-null   object \n",
            " 72  Fence          1460 non-null   object \n",
            " 73  MiscFeature    1460 non-null   object \n",
            " 74  MiscVal        1460 non-null   int64  \n",
            " 75  MoSold         1460 non-null   int64  \n",
            " 76  YrSold         1460 non-null   int64  \n",
            " 77  SaleType       1460 non-null   object \n",
            " 78  SaleCondition  1460 non-null   object \n",
            "dtypes: float64(3), int64(33), object(43)\n",
            "memory usage: 901.2+ KB\n"
          ]
        }
      ]
    },
    {
      "cell_type": "code",
      "source": [
        "data.head()"
      ],
      "metadata": {
        "id": "Zxt0RVoq6L7t",
        "outputId": "90ca75e2-b872-4d1f-b57a-e4f280a32c56",
        "colab": {
          "base_uri": "https://localhost:8080/",
          "height": 256
        }
      },
      "execution_count": 21,
      "outputs": [
        {
          "output_type": "execute_result",
          "data": {
            "text/plain": [
              "   MSSubClass MSZoning  LotFrontage  LotArea Street Alley LotShape  \\\n",
              "0          60       RL         65.0     8450   Pave  Grvl      Reg   \n",
              "1          20       RL         80.0     9600   Pave  Grvl      Reg   \n",
              "2          60       RL         68.0    11250   Pave  Grvl      IR1   \n",
              "3          70       RL         60.0     9550   Pave  Grvl      IR1   \n",
              "4          60       RL         84.0    14260   Pave  Grvl      IR1   \n",
              "\n",
              "  LandContour Utilities LotConfig  ... ScreenPorch PoolArea PoolQC  Fence  \\\n",
              "0         Lvl    AllPub    Inside  ...           0        0     Gd  MnPrv   \n",
              "1         Lvl    AllPub       FR2  ...           0        0     Gd  MnPrv   \n",
              "2         Lvl    AllPub    Inside  ...           0        0     Gd  MnPrv   \n",
              "3         Lvl    AllPub    Corner  ...           0        0     Gd  MnPrv   \n",
              "4         Lvl    AllPub       FR2  ...           0        0     Gd  MnPrv   \n",
              "\n",
              "  MiscFeature MiscVal  MoSold  YrSold  SaleType  SaleCondition  \n",
              "0        Shed       0       2    2008        WD         Normal  \n",
              "1        Shed       0       5    2007        WD         Normal  \n",
              "2        Shed       0       9    2008        WD         Normal  \n",
              "3        Shed       0       2    2006        WD        Abnorml  \n",
              "4        Shed       0      12    2008        WD         Normal  \n",
              "\n",
              "[5 rows x 79 columns]"
            ],
            "text/html": [
              "\n",
              "  <div id=\"df-fd755064-28c5-4746-99cd-d245b03cb16e\" class=\"colab-df-container\">\n",
              "    <div>\n",
              "<style scoped>\n",
              "    .dataframe tbody tr th:only-of-type {\n",
              "        vertical-align: middle;\n",
              "    }\n",
              "\n",
              "    .dataframe tbody tr th {\n",
              "        vertical-align: top;\n",
              "    }\n",
              "\n",
              "    .dataframe thead th {\n",
              "        text-align: right;\n",
              "    }\n",
              "</style>\n",
              "<table border=\"1\" class=\"dataframe\">\n",
              "  <thead>\n",
              "    <tr style=\"text-align: right;\">\n",
              "      <th></th>\n",
              "      <th>MSSubClass</th>\n",
              "      <th>MSZoning</th>\n",
              "      <th>LotFrontage</th>\n",
              "      <th>LotArea</th>\n",
              "      <th>Street</th>\n",
              "      <th>Alley</th>\n",
              "      <th>LotShape</th>\n",
              "      <th>LandContour</th>\n",
              "      <th>Utilities</th>\n",
              "      <th>LotConfig</th>\n",
              "      <th>...</th>\n",
              "      <th>ScreenPorch</th>\n",
              "      <th>PoolArea</th>\n",
              "      <th>PoolQC</th>\n",
              "      <th>Fence</th>\n",
              "      <th>MiscFeature</th>\n",
              "      <th>MiscVal</th>\n",
              "      <th>MoSold</th>\n",
              "      <th>YrSold</th>\n",
              "      <th>SaleType</th>\n",
              "      <th>SaleCondition</th>\n",
              "    </tr>\n",
              "  </thead>\n",
              "  <tbody>\n",
              "    <tr>\n",
              "      <th>0</th>\n",
              "      <td>60</td>\n",
              "      <td>RL</td>\n",
              "      <td>65.0</td>\n",
              "      <td>8450</td>\n",
              "      <td>Pave</td>\n",
              "      <td>Grvl</td>\n",
              "      <td>Reg</td>\n",
              "      <td>Lvl</td>\n",
              "      <td>AllPub</td>\n",
              "      <td>Inside</td>\n",
              "      <td>...</td>\n",
              "      <td>0</td>\n",
              "      <td>0</td>\n",
              "      <td>Gd</td>\n",
              "      <td>MnPrv</td>\n",
              "      <td>Shed</td>\n",
              "      <td>0</td>\n",
              "      <td>2</td>\n",
              "      <td>2008</td>\n",
              "      <td>WD</td>\n",
              "      <td>Normal</td>\n",
              "    </tr>\n",
              "    <tr>\n",
              "      <th>1</th>\n",
              "      <td>20</td>\n",
              "      <td>RL</td>\n",
              "      <td>80.0</td>\n",
              "      <td>9600</td>\n",
              "      <td>Pave</td>\n",
              "      <td>Grvl</td>\n",
              "      <td>Reg</td>\n",
              "      <td>Lvl</td>\n",
              "      <td>AllPub</td>\n",
              "      <td>FR2</td>\n",
              "      <td>...</td>\n",
              "      <td>0</td>\n",
              "      <td>0</td>\n",
              "      <td>Gd</td>\n",
              "      <td>MnPrv</td>\n",
              "      <td>Shed</td>\n",
              "      <td>0</td>\n",
              "      <td>5</td>\n",
              "      <td>2007</td>\n",
              "      <td>WD</td>\n",
              "      <td>Normal</td>\n",
              "    </tr>\n",
              "    <tr>\n",
              "      <th>2</th>\n",
              "      <td>60</td>\n",
              "      <td>RL</td>\n",
              "      <td>68.0</td>\n",
              "      <td>11250</td>\n",
              "      <td>Pave</td>\n",
              "      <td>Grvl</td>\n",
              "      <td>IR1</td>\n",
              "      <td>Lvl</td>\n",
              "      <td>AllPub</td>\n",
              "      <td>Inside</td>\n",
              "      <td>...</td>\n",
              "      <td>0</td>\n",
              "      <td>0</td>\n",
              "      <td>Gd</td>\n",
              "      <td>MnPrv</td>\n",
              "      <td>Shed</td>\n",
              "      <td>0</td>\n",
              "      <td>9</td>\n",
              "      <td>2008</td>\n",
              "      <td>WD</td>\n",
              "      <td>Normal</td>\n",
              "    </tr>\n",
              "    <tr>\n",
              "      <th>3</th>\n",
              "      <td>70</td>\n",
              "      <td>RL</td>\n",
              "      <td>60.0</td>\n",
              "      <td>9550</td>\n",
              "      <td>Pave</td>\n",
              "      <td>Grvl</td>\n",
              "      <td>IR1</td>\n",
              "      <td>Lvl</td>\n",
              "      <td>AllPub</td>\n",
              "      <td>Corner</td>\n",
              "      <td>...</td>\n",
              "      <td>0</td>\n",
              "      <td>0</td>\n",
              "      <td>Gd</td>\n",
              "      <td>MnPrv</td>\n",
              "      <td>Shed</td>\n",
              "      <td>0</td>\n",
              "      <td>2</td>\n",
              "      <td>2006</td>\n",
              "      <td>WD</td>\n",
              "      <td>Abnorml</td>\n",
              "    </tr>\n",
              "    <tr>\n",
              "      <th>4</th>\n",
              "      <td>60</td>\n",
              "      <td>RL</td>\n",
              "      <td>84.0</td>\n",
              "      <td>14260</td>\n",
              "      <td>Pave</td>\n",
              "      <td>Grvl</td>\n",
              "      <td>IR1</td>\n",
              "      <td>Lvl</td>\n",
              "      <td>AllPub</td>\n",
              "      <td>FR2</td>\n",
              "      <td>...</td>\n",
              "      <td>0</td>\n",
              "      <td>0</td>\n",
              "      <td>Gd</td>\n",
              "      <td>MnPrv</td>\n",
              "      <td>Shed</td>\n",
              "      <td>0</td>\n",
              "      <td>12</td>\n",
              "      <td>2008</td>\n",
              "      <td>WD</td>\n",
              "      <td>Normal</td>\n",
              "    </tr>\n",
              "  </tbody>\n",
              "</table>\n",
              "<p>5 rows × 79 columns</p>\n",
              "</div>\n",
              "    <div class=\"colab-df-buttons\">\n",
              "\n",
              "  <div class=\"colab-df-container\">\n",
              "    <button class=\"colab-df-convert\" onclick=\"convertToInteractive('df-fd755064-28c5-4746-99cd-d245b03cb16e')\"\n",
              "            title=\"Convert this dataframe to an interactive table.\"\n",
              "            style=\"display:none;\">\n",
              "\n",
              "  <svg xmlns=\"http://www.w3.org/2000/svg\" height=\"24px\" viewBox=\"0 -960 960 960\">\n",
              "    <path d=\"M120-120v-720h720v720H120Zm60-500h600v-160H180v160Zm220 220h160v-160H400v160Zm0 220h160v-160H400v160ZM180-400h160v-160H180v160Zm440 0h160v-160H620v160ZM180-180h160v-160H180v160Zm440 0h160v-160H620v160Z\"/>\n",
              "  </svg>\n",
              "    </button>\n",
              "\n",
              "  <style>\n",
              "    .colab-df-container {\n",
              "      display:flex;\n",
              "      gap: 12px;\n",
              "    }\n",
              "\n",
              "    .colab-df-convert {\n",
              "      background-color: #E8F0FE;\n",
              "      border: none;\n",
              "      border-radius: 50%;\n",
              "      cursor: pointer;\n",
              "      display: none;\n",
              "      fill: #1967D2;\n",
              "      height: 32px;\n",
              "      padding: 0 0 0 0;\n",
              "      width: 32px;\n",
              "    }\n",
              "\n",
              "    .colab-df-convert:hover {\n",
              "      background-color: #E2EBFA;\n",
              "      box-shadow: 0px 1px 2px rgba(60, 64, 67, 0.3), 0px 1px 3px 1px rgba(60, 64, 67, 0.15);\n",
              "      fill: #174EA6;\n",
              "    }\n",
              "\n",
              "    .colab-df-buttons div {\n",
              "      margin-bottom: 4px;\n",
              "    }\n",
              "\n",
              "    [theme=dark] .colab-df-convert {\n",
              "      background-color: #3B4455;\n",
              "      fill: #D2E3FC;\n",
              "    }\n",
              "\n",
              "    [theme=dark] .colab-df-convert:hover {\n",
              "      background-color: #434B5C;\n",
              "      box-shadow: 0px 1px 3px 1px rgba(0, 0, 0, 0.15);\n",
              "      filter: drop-shadow(0px 1px 2px rgba(0, 0, 0, 0.3));\n",
              "      fill: #FFFFFF;\n",
              "    }\n",
              "  </style>\n",
              "\n",
              "    <script>\n",
              "      const buttonEl =\n",
              "        document.querySelector('#df-fd755064-28c5-4746-99cd-d245b03cb16e button.colab-df-convert');\n",
              "      buttonEl.style.display =\n",
              "        google.colab.kernel.accessAllowed ? 'block' : 'none';\n",
              "\n",
              "      async function convertToInteractive(key) {\n",
              "        const element = document.querySelector('#df-fd755064-28c5-4746-99cd-d245b03cb16e');\n",
              "        const dataTable =\n",
              "          await google.colab.kernel.invokeFunction('convertToInteractive',\n",
              "                                                    [key], {});\n",
              "        if (!dataTable) return;\n",
              "\n",
              "        const docLinkHtml = 'Like what you see? Visit the ' +\n",
              "          '<a target=\"_blank\" href=https://colab.research.google.com/notebooks/data_table.ipynb>data table notebook</a>'\n",
              "          + ' to learn more about interactive tables.';\n",
              "        element.innerHTML = '';\n",
              "        dataTable['output_type'] = 'display_data';\n",
              "        await google.colab.output.renderOutput(dataTable, element);\n",
              "        const docLink = document.createElement('div');\n",
              "        docLink.innerHTML = docLinkHtml;\n",
              "        element.appendChild(docLink);\n",
              "      }\n",
              "    </script>\n",
              "  </div>\n",
              "\n",
              "\n",
              "    <div id=\"df-1268bf04-b565-4df0-a7c8-ca0bd9a2ff5a\">\n",
              "      <button class=\"colab-df-quickchart\" onclick=\"quickchart('df-1268bf04-b565-4df0-a7c8-ca0bd9a2ff5a')\"\n",
              "                title=\"Suggest charts\"\n",
              "                style=\"display:none;\">\n",
              "\n",
              "<svg xmlns=\"http://www.w3.org/2000/svg\" height=\"24px\"viewBox=\"0 0 24 24\"\n",
              "     width=\"24px\">\n",
              "    <g>\n",
              "        <path d=\"M19 3H5c-1.1 0-2 .9-2 2v14c0 1.1.9 2 2 2h14c1.1 0 2-.9 2-2V5c0-1.1-.9-2-2-2zM9 17H7v-7h2v7zm4 0h-2V7h2v10zm4 0h-2v-4h2v4z\"/>\n",
              "    </g>\n",
              "</svg>\n",
              "      </button>\n",
              "\n",
              "<style>\n",
              "  .colab-df-quickchart {\n",
              "      --bg-color: #E8F0FE;\n",
              "      --fill-color: #1967D2;\n",
              "      --hover-bg-color: #E2EBFA;\n",
              "      --hover-fill-color: #174EA6;\n",
              "      --disabled-fill-color: #AAA;\n",
              "      --disabled-bg-color: #DDD;\n",
              "  }\n",
              "\n",
              "  [theme=dark] .colab-df-quickchart {\n",
              "      --bg-color: #3B4455;\n",
              "      --fill-color: #D2E3FC;\n",
              "      --hover-bg-color: #434B5C;\n",
              "      --hover-fill-color: #FFFFFF;\n",
              "      --disabled-bg-color: #3B4455;\n",
              "      --disabled-fill-color: #666;\n",
              "  }\n",
              "\n",
              "  .colab-df-quickchart {\n",
              "    background-color: var(--bg-color);\n",
              "    border: none;\n",
              "    border-radius: 50%;\n",
              "    cursor: pointer;\n",
              "    display: none;\n",
              "    fill: var(--fill-color);\n",
              "    height: 32px;\n",
              "    padding: 0;\n",
              "    width: 32px;\n",
              "  }\n",
              "\n",
              "  .colab-df-quickchart:hover {\n",
              "    background-color: var(--hover-bg-color);\n",
              "    box-shadow: 0 1px 2px rgba(60, 64, 67, 0.3), 0 1px 3px 1px rgba(60, 64, 67, 0.15);\n",
              "    fill: var(--button-hover-fill-color);\n",
              "  }\n",
              "\n",
              "  .colab-df-quickchart-complete:disabled,\n",
              "  .colab-df-quickchart-complete:disabled:hover {\n",
              "    background-color: var(--disabled-bg-color);\n",
              "    fill: var(--disabled-fill-color);\n",
              "    box-shadow: none;\n",
              "  }\n",
              "\n",
              "  .colab-df-spinner {\n",
              "    border: 2px solid var(--fill-color);\n",
              "    border-color: transparent;\n",
              "    border-bottom-color: var(--fill-color);\n",
              "    animation:\n",
              "      spin 1s steps(1) infinite;\n",
              "  }\n",
              "\n",
              "  @keyframes spin {\n",
              "    0% {\n",
              "      border-color: transparent;\n",
              "      border-bottom-color: var(--fill-color);\n",
              "      border-left-color: var(--fill-color);\n",
              "    }\n",
              "    20% {\n",
              "      border-color: transparent;\n",
              "      border-left-color: var(--fill-color);\n",
              "      border-top-color: var(--fill-color);\n",
              "    }\n",
              "    30% {\n",
              "      border-color: transparent;\n",
              "      border-left-color: var(--fill-color);\n",
              "      border-top-color: var(--fill-color);\n",
              "      border-right-color: var(--fill-color);\n",
              "    }\n",
              "    40% {\n",
              "      border-color: transparent;\n",
              "      border-right-color: var(--fill-color);\n",
              "      border-top-color: var(--fill-color);\n",
              "    }\n",
              "    60% {\n",
              "      border-color: transparent;\n",
              "      border-right-color: var(--fill-color);\n",
              "    }\n",
              "    80% {\n",
              "      border-color: transparent;\n",
              "      border-right-color: var(--fill-color);\n",
              "      border-bottom-color: var(--fill-color);\n",
              "    }\n",
              "    90% {\n",
              "      border-color: transparent;\n",
              "      border-bottom-color: var(--fill-color);\n",
              "    }\n",
              "  }\n",
              "</style>\n",
              "\n",
              "      <script>\n",
              "        async function quickchart(key) {\n",
              "          const quickchartButtonEl =\n",
              "            document.querySelector('#' + key + ' button');\n",
              "          quickchartButtonEl.disabled = true;  // To prevent multiple clicks.\n",
              "          quickchartButtonEl.classList.add('colab-df-spinner');\n",
              "          try {\n",
              "            const charts = await google.colab.kernel.invokeFunction(\n",
              "                'suggestCharts', [key], {});\n",
              "          } catch (error) {\n",
              "            console.error('Error during call to suggestCharts:', error);\n",
              "          }\n",
              "          quickchartButtonEl.classList.remove('colab-df-spinner');\n",
              "          quickchartButtonEl.classList.add('colab-df-quickchart-complete');\n",
              "        }\n",
              "        (() => {\n",
              "          let quickchartButtonEl =\n",
              "            document.querySelector('#df-1268bf04-b565-4df0-a7c8-ca0bd9a2ff5a button');\n",
              "          quickchartButtonEl.style.display =\n",
              "            google.colab.kernel.accessAllowed ? 'block' : 'none';\n",
              "        })();\n",
              "      </script>\n",
              "    </div>\n",
              "\n",
              "    </div>\n",
              "  </div>\n"
            ],
            "application/vnd.google.colaboratory.intrinsic+json": {
              "type": "dataframe",
              "variable_name": "data"
            }
          },
          "metadata": {},
          "execution_count": 21
        }
      ]
    },
    {
      "cell_type": "markdown",
      "source": [
        "`ames_housing` is a pandas dataframe. The column \"SalePrice\" contains the\n",
        "target variable, which makes it a regression problem.\n",
        "\n",
        "## Question 1\n",
        "\n",
        "Use the `data.info()` and ` data.head()` commands to examine the columns of the dataframe.\n",
        "\n",
        "The dataset contains:\n",
        "\n",
        "a) only numerical features\n",
        "\n",
        "b) only categorical features\n",
        "```\n",
        "c) both numerical and categorical features\n",
        "```\n",
        "Select a single answer\n"
      ],
      "metadata": {
        "id": "POUsmFyuu8i1"
      }
    },
    {
      "cell_type": "markdown",
      "source": [
        "## Question 2\n",
        "\n",
        "\n",
        "How many features are available to predict whether or not a house is expensive?\n",
        "```\n",
        "a) 79\n",
        "```\n",
        "b) 80\n",
        "\n",
        "c) 81\n",
        "\n",
        "Select a single answer\n"
      ],
      "metadata": {
        "id": "ewaLytGIVKtH"
      }
    },
    {
      "cell_type": "markdown",
      "source": [
        "## Question 3\n",
        "\n",
        "\n",
        "How many features are represented with numbers?\n",
        "\n",
        "a) 0\n",
        "```\n",
        "b) 36\n",
        "```\n",
        "c) 42\n",
        "\n",
        "d) 79\n",
        "\n",
        "Select a single answer\n",
        "\n",
        "\n",
        "Hint: you can use the method\n",
        "[`df.select_dtypes`](https://pandas.pydata.org/pandas-docs/stable/reference/api/pandas.DataFrame.select_dtypes.html)\n",
        "or the function\n",
        "[`sklearn.compose.make_column_selector`](https://scikit-learn.org/stable/modules/generated/sklearn.compose.make_column_selector.html)\n",
        "as shown in a previous notebook."
      ],
      "metadata": {
        "id": "7tXWo6NZVOq1"
      }
    },
    {
      "cell_type": "markdown",
      "source": [
        "## Question 4\n",
        "\n",
        "Refer to the [dataset description](https://www.openml.org/d/42165) regarding\n",
        "the meaning of the dataset.\n",
        "\n",
        "\n",
        "Among the following columns, which columns express a quantitative numerical value (excluding ordinal categories)?\n",
        "```\n",
        "a) \"LotFrontage\"\n",
        "```\n",
        "```\n",
        "b) \"LotArea\"\n",
        "```\n",
        "c) \"OverallQual\"\n",
        "\n",
        "d) \"OverallCond\"\n",
        "```\n",
        "e) \"YearBuilt\"\n",
        "```\n",
        "\n",
        "Select all answers that apply\n"
      ],
      "metadata": {
        "id": "GwRmJ7Sqvm7K"
      }
    },
    {
      "cell_type": "markdown",
      "source": [
        "We consider the following numerical columns:"
      ],
      "metadata": {
        "id": "Yby0npYiVUXd"
      }
    },
    {
      "cell_type": "code",
      "source": [
        "numerical_features = [\n",
        "  \"LotFrontage\", \"LotArea\", \"MasVnrArea\", \"BsmtFinSF1\", \"BsmtFinSF2\",\n",
        "  \"BsmtUnfSF\", \"TotalBsmtSF\", \"1stFlrSF\", \"2ndFlrSF\", \"LowQualFinSF\",\n",
        "  \"GrLivArea\", \"BedroomAbvGr\", \"KitchenAbvGr\", \"TotRmsAbvGrd\", \"Fireplaces\",\n",
        "  \"GarageCars\", \"GarageArea\", \"WoodDeckSF\", \"OpenPorchSF\", \"EnclosedPorch\",\n",
        "  \"3SsnPorch\", \"ScreenPorch\", \"PoolArea\", \"MiscVal\",\n",
        "]"
      ],
      "metadata": {
        "id": "w-bjnDZAA11q"
      },
      "execution_count": 22,
      "outputs": []
    },
    {
      "cell_type": "markdown",
      "source": [
        "Now create a predictive model that uses these numerical columns as input data.\n",
        "Your predictive model should be a pipeline composed of a\n",
        "[`sklearn.preprocessing.StandardScaler`](https://scikit-learn.org/stable/modules/generated/sklearn.preprocessing.StandardScaler.html)\n",
        "to scale these numerical data and a\n",
        "[`sklearn.linear_model.LinearRegression`](https://scikit-learn.org/stable/modules/generated/sklearn.linear_model.LinearRegression.html).\n",
        "Note that the default score metric of `sklearn.linear_model.LinearRegression` is the coefficient of determination $R^2$ whith value close to 1 meaning a better prediction [read more here](https://scikit-learn.org/stable/modules/generated/sklearn.linear_model.LinearRegression.html#sklearn.linear_model.LinearRegression.score)."
      ],
      "metadata": {
        "id": "Kmz4XVZ0VXiM"
      }
    },
    {
      "cell_type": "code",
      "source": [
        "\n",
        "from sklearn.model_selection import cross_val_score\n",
        "from sklearn.pipeline import make_pipeline\n",
        "from sklearn.preprocessing import StandardScaler\n",
        "from sklearn.linear_model import LinearRegression\n",
        "\n",
        "numerical_features = [\n",
        "  \"LotFrontage\", \"LotArea\", \"MasVnrArea\", \"BsmtFinSF1\", \"BsmtFinSF2\",\n",
        "  \"BsmtUnfSF\", \"TotalBsmtSF\", \"1stFlrSF\", \"2ndFlrSF\", \"LowQualFinSF\",\n",
        "  \"GrLivArea\", \"BedroomAbvGr\", \"KitchenAbvGr\", \"TotRmsAbvGrd\", \"Fireplaces\",\n",
        "  \"GarageCars\", \"GarageArea\", \"WoodDeckSF\", \"OpenPorchSF\", \"EnclosedPorch\",\n",
        "  \"3SsnPorch\", \"ScreenPorch\", \"PoolArea\", \"MiscVal\",\n",
        "]\n",
        "\n",
        "X_numerical = data[numerical_features]\n",
        "\n",
        "model_pipeline = make_pipeline(\n",
        "    StandardScaler(),\n",
        "    LinearRegression()\n",
        ")\n",
        "\n",
        "scores = cross_val_score(model_pipeline, X_numerical, target, cv=10)\n",
        "\n",
        "print(scores.mean())"
      ],
      "metadata": {
        "id": "nCTRIqIm7SWu",
        "outputId": "13691d03-8042-4956-c9fb-67d350325b1c",
        "colab": {
          "base_uri": "https://localhost:8080/"
        }
      },
      "execution_count": 23,
      "outputs": [
        {
          "output_type": "stream",
          "name": "stdout",
          "text": [
            "0.7189516953567365\n"
          ]
        }
      ]
    },
    {
      "cell_type": "markdown",
      "source": [
        "## Question 5\n",
        "\n",
        "What is the score obtained by 10-fold cross-validation (you can set\n",
        "the parameter `cv=10` when calling `cross_validate`) of this pipeline?\n",
        "\n",
        "a) ~0.5\n",
        "```\n",
        "b) ~0.7\n",
        "```\n",
        "c) ~0.9\n",
        "\n",
        "Select a single answer\n",
        "\n"
      ],
      "metadata": {
        "id": "42F4zBd8Vc7e"
      }
    },
    {
      "cell_type": "markdown",
      "source": [
        "Instead of solely using the numerical columns, let us build a pipeline that\n",
        "can process both the numerical and categorical features together as follows:\n",
        "\n",
        "- the `numerical_features` (as defined above) should be processed as previously\n",
        "  done with a `StandardScaler`;\n",
        "- the left-out columns should be treated as categorical variables using a\n",
        "  [`sklearn.preprocessing.OneHotEncoder`](https://scikit-learn.org/stable/modules/generated/sklearn.preprocessing.OneHotEncoder.html).\n",
        "  To avoid any issue with rare categories that could only be present during\n",
        "  the prediction, you can pass the parameter `handle_unknown=\"ignore\"` to the\n",
        "  `OneHotEncoder`.\n",
        "\n",
        "One way to compare two models is by comparing their means, but small differences in performance measures might easily turn out to be merely by chance (e.g. when using random resampling during cross-validation), and not because one model predicts systematically better than the other.\n",
        "\n",
        "Another way is to compare cross-validation test scores of both models fold-to-fold, i.e. counting the number of folds where one model has a better test score than the other. This provides some extra information: are some partitions of the data making the classification task particularly easy or hard for both models?\n",
        "\n",
        "Let’s visualize the second approach."
      ],
      "metadata": {
        "id": "0KyimqDvVj2Y"
      }
    },
    {
      "cell_type": "markdown",
      "source": [
        "![image.png](data:image/png;base64,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)"
      ],
      "metadata": {
        "id": "gBQKlROB62Mc"
      }
    },
    {
      "cell_type": "markdown",
      "source": [
        "\n",
        "## Question 6\n",
        "\n",
        "Compare both models by counting on how many folds the model using all features has a better test score than the former with numerical features only. Select the correct statement:\n",
        "\n",
        "\n",
        "a) [0, 3]: the model using all features is consistently worse\n",
        "\n",
        "b) [4, 6]: both models are almost equivalent\n",
        "```\n",
        "c) [7, 10]: the model using all features is consistently better\n",
        "```\n",
        "Select a single answer\n"
      ],
      "metadata": {
        "id": "E01o6MQbw2fj"
      }
    },
    {
      "cell_type": "markdown",
      "source": [
        "#Optional [after we complete the next chapter 3]"
      ],
      "metadata": {
        "id": "BGYoVBHd7m_D"
      }
    },
    {
      "cell_type": "markdown",
      "source": [
        "You may use this same dataset to tackle a classification problem to predict whether or not an house is expensive, e.g., “Expensive” being defined as a sale price greater than $200,000."
      ],
      "metadata": {
        "id": "wKVup6Xp7pnX"
      }
    },
    {
      "cell_type": "markdown",
      "source": [
        "You can answer questions 5 and 6 again after replacing the linear regrssion by a [`sklearn.linear_model.LogisticRegression`](https://scikit-learn.org/stable/modules/generated/sklearn.linear_model.LogisticRegression.html) and considering the accuracy score instead of the $R^2$ coefficient."
      ],
      "metadata": {
        "id": "OP0wQ_0L8M8f"
      }
    },
    {
      "cell_type": "code",
      "source": [
        "from sklearn.pipeline import make_pipeline\n",
        "from sklearn.linear_model import LogisticRegression\n",
        "from sklearn.preprocessing import StandardScaler, OneHotEncoder\n",
        "from sklearn.compose import ColumnTransformer\n",
        "from sklearn.model_selection import cross_val_score\n",
        "\n",
        "###Model with numerical features only\n",
        "target_classification = (target > 200_000).astype(int)\n",
        "\n",
        "numerical_features = [\n",
        "  \"LotFrontage\", \"LotArea\", \"MasVnrArea\", \"BsmtFinSF1\", \"BsmtFinSF2\",\n",
        "  \"BsmtUnfSF\", \"TotalBsmtSF\", \"1stFlrSF\", \"2ndFlrSF\", \"LowQualFinSF\",\n",
        "  \"GrLivArea\", \"BedroomAbvGr\", \"KitchenAbvGr\", \"TotRmsAbvGrd\", \"Fireplaces\",\n",
        "  \"GarageCars\", \"GarageArea\", \"WoodDeckSF\", \"OpenPorchSF\", \"EnclosedPorch\",\n",
        "  \"3SsnPorch\", \"ScreenPorch\", \"PoolArea\", \"MiscVal\",\n",
        "]\n",
        "\n",
        "X_numerical = data[numerical_features]\n",
        "\n",
        "numerical_only_model_classification = make_pipeline(\n",
        "    StandardScaler(),\n",
        "    LogisticRegression(max_iter=1000))\n",
        "\n",
        "numerical_scores = cross_val_score(\n",
        "    numerical_only_model_classification, X_numerical, target_classification, cv=10, scoring='accuracy')\n",
        "print(numerical_scores.mean())\n",
        "\n",
        "###Model with all features\n",
        "categorical_features = data.columns.drop(numerical_features)\n",
        "preprocessor = ColumnTransformer([\n",
        "    ('scale_numerical', StandardScaler(), numerical_features),\n",
        "    ('onehot_categorical', OneHotEncoder(handle_unknown='ignore'), categorical_features)\n",
        "])\n",
        "all_features_model = make_pipeline(\n",
        "    preprocessor,\n",
        "    LogisticRegression(max_iter=1000))\n",
        "\n",
        "all_features_scores = cross_val_score(\n",
        "    all_features_model, data, target_classification, cv=10, scoring='accuracy'\n",
        ")\n",
        "print(all_features_scores.mean())\n",
        "\n",
        "\n"
      ],
      "metadata": {
        "id": "hP10H91L8ASM",
        "outputId": "dbc1cb91-dc5f-42c6-8b24-58a515b5774f",
        "colab": {
          "base_uri": "https://localhost:8080/"
        }
      },
      "execution_count": 24,
      "outputs": [
        {
          "output_type": "stream",
          "name": "stdout",
          "text": [
            "0.8924657534246576\n",
            "0.9164383561643834\n"
          ]
        }
      ]
    },
    {
      "cell_type": "code",
      "source": [
        "import matplotlib.pyplot as plt\n",
        "plt.figure()\n",
        "fig, ax = plt.subplots(figsize=(10, 7))\n",
        "\n",
        "x = range(10)\n",
        "ax.scatter(x, numerical_scores,label='Numerical Features Only')\n",
        "ax.scatter(x, all_features_scores,label='All Features (Numerical + Categorical)')\n",
        "ax.set_ylim(0.8, 1.0)\n",
        "ax.set_title('Comparison of Model Accuracy by Cross-Validation Fold', fontsize=14)\n",
        "ax.set_xlabel('Cross-Validation Fold')\n",
        "ax.set_ylabel('Accuracy Score')\n",
        "ax.legend()\n",
        "ax.grid(True)\n",
        "plt.show()"
      ],
      "metadata": {
        "id": "KUaIhdLiFPiS",
        "outputId": "617a30a7-2e58-48c1-e328-1ae5e7877ef3",
        "colab": {
          "base_uri": "https://localhost:8080/",
          "height": 660
        }
      },
      "execution_count": 25,
      "outputs": [
        {
          "output_type": "display_data",
          "data": {
            "text/plain": [
              "<Figure size 640x480 with 0 Axes>"
            ]
          },
          "metadata": {}
        },
        {
          "output_type": "display_data",
          "data": {
            "text/plain": [
              "<Figure size 1000x700 with 1 Axes>"
            ],
            "image/png": "[encoded data removed]"
          },
          "metadata": {}
        }
      ]
    },
    {
      "cell_type": "markdown",
      "source": [
        "Happy learning ! :)"
      ],
      "metadata": {
        "id": "hQCaxYQtVl6Z"
      }
    }
  ]
}